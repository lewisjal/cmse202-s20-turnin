{
 "cells": [
  {
   "cell_type": "markdown",
   "metadata": {},
   "source": [
    "# CMSE Homework 04\n",
    "\n",
    "\n",
    "### Assignment instructions\n",
    "\n",
    "Work through the following assignment, making sure to follow all of the directions and answer all of the questions.\n",
    "\n",
    "There are 25 points possible on this assignment. Point values for each part are included in the section headers.\n",
    "\n",
    "This assignment is due roughly two weeks from now at 11:59 pm on **Friday March 13**. It should be uploaded into the \"Homework Assignments\" submission folder for Homework #4 in your D2L webpage. Submission instructions can be found at the end of the notebook.\n",
    "\n",
    "**Hint**: It is possible you are asked to do something you are not familiar with. That's why you have internet access. Do some smart searches and see what you can find! "
   ]
  },
  {
   "cell_type": "markdown",
   "metadata": {},
   "source": [
    "---\n",
    "## Part 1: Setting up a repository for tracking changes (3 points)\n",
    "\n",
    "For this assignment, you're going to add it to the cmse202-s20-turnin repository you created in class so that you can track your progress on the assignment and preserve the final version that you turn in. In order to do this you need to:\n",
    "\n",
    "* Navigate to your `cmse202-s20-turnin` repository and create a new directory called `hw-04`.\n",
    "* Move this notebook into that new directory in your repository, then add it and commit it to your repository.\n",
    " * Finally, to test that everything is working, \"git push\" the file so that it ends up in your GitHub repository.\n",
    "\n",
    "Important: Make sure you've added your PTA as a collaborators\\ to your \"turnin\" respository with \"Read\" access so that we can see your assignment.\n",
    "\n",
    "* Section 001: nchamusah14\n",
    "* Section 002: nchamusah14\n",
    "* Section 003: genster6\n",
    "\n",
    "Also important: Make sure that the version of this notebook that you are working on is the same one that you just added to your repository! If you are working on a different copy of the noteobok, none of your changes will be tracked.\n",
    "\n",
    "If everything went as intended, the file should now show up on your GitHub account in the `cmse202-s20-turnin` repository under the `hw-04` directory that you just created. Periodically, you'll be asked to commit your changes to the repository and push them to the remote GitHub location. Of course, you can always commit your changes more often than that, if you wish. It can be good to get into a habit of committing your changes any time you make a significant modification, or when you stop working on the project for a bit."
   ]
  },
  {
   "cell_type": "markdown",
   "metadata": {},
   "source": [
    "## Part 2: Loading and Sorting the Data (5 points)\n",
    "\n",
    "For this homework we will work with the data of Olymptic medals won by Team USA. You will learn sorting data in a data frame, building and evaluating a logistic regression model, and writing python classes.\n",
    "\n",
    "**Important Note** It is possible that you could modify the spreadsheet to make it easier to work with. **Don't** We will test your code on the original spreadsheet provided. Any changes should be made programmatically."
   ]
  },
  {
   "cell_type": "markdown",
   "metadata": {},
   "source": [
    "**Question 2.1 (1 points)** Take a look at the spreadsheet \"Olympic.csv\" file and read it into a dataframe. The data is in chronological order by default. Here are some features you should deal with when you load it.\n",
    "\n",
    "* Remove the column that records the number of athletes.\n",
    "* Remove the row that contains \"Did not participate\".\n",
    "* Remove the last row that counts the all-time totals.\n",
    "\n",
    "You will end up with a data frame of 27 rows."
   ]
  },
  {
   "cell_type": "code",
   "execution_count": 40,
   "metadata": {},
   "outputs": [
    {
     "data": {
      "text/plain": [
       "Games     object\n",
       "Gold       int64\n",
       "Silver     int64\n",
       "Bronze     int64\n",
       "Total      int64\n",
       "dtype: object"
      ]
     },
     "execution_count": 40,
     "metadata": {},
     "output_type": "execute_result"
    }
   ],
   "source": [
    "### Put your code here ###\n",
    "import pandas as pd\n",
    "data = pd.read_csv(\"Olympic.csv\", skiprows = (19,29))\n",
    "data = data.drop(\"Athletes\", axis = 1)"
   ]
  },
  {
   "cell_type": "markdown",
   "metadata": {},
   "source": [
    "**Question 2.2 (1 point):** The last column in the data frame shows the total number of gold, silver and bronze medals in each game. Sort the data frame so that the column \"Total\" is *ascending*."
   ]
  },
  {
   "cell_type": "code",
   "execution_count": 24,
   "metadata": {},
   "outputs": [
    {
     "data": {
      "text/html": [
       "<div>\n",
       "<style scoped>\n",
       "    .dataframe tbody tr th:only-of-type {\n",
       "        vertical-align: middle;\n",
       "    }\n",
       "\n",
       "    .dataframe tbody tr th {\n",
       "        vertical-align: top;\n",
       "    }\n",
       "\n",
       "    .dataframe thead th {\n",
       "        text-align: right;\n",
       "    }\n",
       "</style>\n",
       "<table border=\"1\" class=\"dataframe\">\n",
       "  <thead>\n",
       "    <tr style=\"text-align: right;\">\n",
       "      <th></th>\n",
       "      <th>Games</th>\n",
       "      <th>Gold</th>\n",
       "      <th>Silver</th>\n",
       "      <th>Bronze</th>\n",
       "      <th>Total</th>\n",
       "    </tr>\n",
       "  </thead>\n",
       "  <tbody>\n",
       "    <tr>\n",
       "      <th>0</th>\n",
       "      <td>1896 Athens</td>\n",
       "      <td>11</td>\n",
       "      <td>7</td>\n",
       "      <td>2</td>\n",
       "      <td>20</td>\n",
       "    </tr>\n",
       "    <tr>\n",
       "      <th>1</th>\n",
       "      <td>1900 Paris</td>\n",
       "      <td>19</td>\n",
       "      <td>14</td>\n",
       "      <td>14</td>\n",
       "      <td>47</td>\n",
       "    </tr>\n",
       "    <tr>\n",
       "      <th>3</th>\n",
       "      <td>1908 London</td>\n",
       "      <td>23</td>\n",
       "      <td>12</td>\n",
       "      <td>12</td>\n",
       "      <td>47</td>\n",
       "    </tr>\n",
       "    <tr>\n",
       "      <th>9</th>\n",
       "      <td>1936 Berlin</td>\n",
       "      <td>24</td>\n",
       "      <td>20</td>\n",
       "      <td>12</td>\n",
       "      <td>56</td>\n",
       "    </tr>\n",
       "    <tr>\n",
       "      <th>7</th>\n",
       "      <td>1928 Amsterdam</td>\n",
       "      <td>22</td>\n",
       "      <td>18</td>\n",
       "      <td>16</td>\n",
       "      <td>56</td>\n",
       "    </tr>\n",
       "    <tr>\n",
       "      <th>4</th>\n",
       "      <td>1912 Stockholm</td>\n",
       "      <td>25</td>\n",
       "      <td>19</td>\n",
       "      <td>19</td>\n",
       "      <td>63</td>\n",
       "    </tr>\n",
       "    <tr>\n",
       "      <th>13</th>\n",
       "      <td>1960 Rome</td>\n",
       "      <td>34</td>\n",
       "      <td>21</td>\n",
       "      <td>16</td>\n",
       "      <td>71</td>\n",
       "    </tr>\n",
       "    <tr>\n",
       "      <th>12</th>\n",
       "      <td>1956 Melbourne</td>\n",
       "      <td>32</td>\n",
       "      <td>25</td>\n",
       "      <td>17</td>\n",
       "      <td>74</td>\n",
       "    </tr>\n",
       "    <tr>\n",
       "      <th>11</th>\n",
       "      <td>1952 Helsinki</td>\n",
       "      <td>40</td>\n",
       "      <td>19</td>\n",
       "      <td>17</td>\n",
       "      <td>76</td>\n",
       "    </tr>\n",
       "    <tr>\n",
       "      <th>10</th>\n",
       "      <td>1948 London</td>\n",
       "      <td>38</td>\n",
       "      <td>27</td>\n",
       "      <td>19</td>\n",
       "      <td>84</td>\n",
       "    </tr>\n",
       "    <tr>\n",
       "      <th>14</th>\n",
       "      <td>1964 Tokyo</td>\n",
       "      <td>36</td>\n",
       "      <td>26</td>\n",
       "      <td>28</td>\n",
       "      <td>90</td>\n",
       "    </tr>\n",
       "    <tr>\n",
       "      <th>22</th>\n",
       "      <td>2000 Sydney</td>\n",
       "      <td>37</td>\n",
       "      <td>24</td>\n",
       "      <td>32</td>\n",
       "      <td>93</td>\n",
       "    </tr>\n",
       "    <tr>\n",
       "      <th>16</th>\n",
       "      <td>1972 Munich</td>\n",
       "      <td>33</td>\n",
       "      <td>31</td>\n",
       "      <td>30</td>\n",
       "      <td>94</td>\n",
       "    </tr>\n",
       "    <tr>\n",
       "      <th>19</th>\n",
       "      <td>1988 Seoul</td>\n",
       "      <td>36</td>\n",
       "      <td>31</td>\n",
       "      <td>27</td>\n",
       "      <td>94</td>\n",
       "    </tr>\n",
       "    <tr>\n",
       "      <th>17</th>\n",
       "      <td>1976 Montreal</td>\n",
       "      <td>34</td>\n",
       "      <td>35</td>\n",
       "      <td>25</td>\n",
       "      <td>94</td>\n",
       "    </tr>\n",
       "    <tr>\n",
       "      <th>5</th>\n",
       "      <td>1920 Antwerp</td>\n",
       "      <td>41</td>\n",
       "      <td>27</td>\n",
       "      <td>27</td>\n",
       "      <td>95</td>\n",
       "    </tr>\n",
       "    <tr>\n",
       "      <th>6</th>\n",
       "      <td>1924 Paris</td>\n",
       "      <td>45</td>\n",
       "      <td>27</td>\n",
       "      <td>27</td>\n",
       "      <td>99</td>\n",
       "    </tr>\n",
       "    <tr>\n",
       "      <th>21</th>\n",
       "      <td>1996 Atlanta</td>\n",
       "      <td>44</td>\n",
       "      <td>32</td>\n",
       "      <td>25</td>\n",
       "      <td>101</td>\n",
       "    </tr>\n",
       "    <tr>\n",
       "      <th>23</th>\n",
       "      <td>2004 Athens</td>\n",
       "      <td>36</td>\n",
       "      <td>39</td>\n",
       "      <td>26</td>\n",
       "      <td>101</td>\n",
       "    </tr>\n",
       "    <tr>\n",
       "      <th>8</th>\n",
       "      <td>1932 Los Angeles</td>\n",
       "      <td>41</td>\n",
       "      <td>32</td>\n",
       "      <td>30</td>\n",
       "      <td>103</td>\n",
       "    </tr>\n",
       "    <tr>\n",
       "      <th>25</th>\n",
       "      <td>2012 London</td>\n",
       "      <td>46</td>\n",
       "      <td>28</td>\n",
       "      <td>30</td>\n",
       "      <td>104</td>\n",
       "    </tr>\n",
       "    <tr>\n",
       "      <th>15</th>\n",
       "      <td>1968 Mexico City</td>\n",
       "      <td>45</td>\n",
       "      <td>28</td>\n",
       "      <td>34</td>\n",
       "      <td>107</td>\n",
       "    </tr>\n",
       "    <tr>\n",
       "      <th>20</th>\n",
       "      <td>1992 Barcelona</td>\n",
       "      <td>37</td>\n",
       "      <td>34</td>\n",
       "      <td>37</td>\n",
       "      <td>108</td>\n",
       "    </tr>\n",
       "    <tr>\n",
       "      <th>24</th>\n",
       "      <td>2008 Beijing</td>\n",
       "      <td>36</td>\n",
       "      <td>39</td>\n",
       "      <td>37</td>\n",
       "      <td>112</td>\n",
       "    </tr>\n",
       "    <tr>\n",
       "      <th>26</th>\n",
       "      <td>2016 Rio de Janeiro</td>\n",
       "      <td>46</td>\n",
       "      <td>37</td>\n",
       "      <td>38</td>\n",
       "      <td>121</td>\n",
       "    </tr>\n",
       "    <tr>\n",
       "      <th>18</th>\n",
       "      <td>1984 Los Angeles</td>\n",
       "      <td>83</td>\n",
       "      <td>61</td>\n",
       "      <td>30</td>\n",
       "      <td>174</td>\n",
       "    </tr>\n",
       "    <tr>\n",
       "      <th>2</th>\n",
       "      <td>1904 St. Louis</td>\n",
       "      <td>78</td>\n",
       "      <td>82</td>\n",
       "      <td>79</td>\n",
       "      <td>239</td>\n",
       "    </tr>\n",
       "  </tbody>\n",
       "</table>\n",
       "</div>"
      ],
      "text/plain": [
       "                  Games  Gold  Silver  Bronze  Total\n",
       "0           1896 Athens    11       7       2     20\n",
       "1            1900 Paris    19      14      14     47\n",
       "3           1908 London    23      12      12     47\n",
       "9           1936 Berlin    24      20      12     56\n",
       "7        1928 Amsterdam    22      18      16     56\n",
       "4        1912 Stockholm    25      19      19     63\n",
       "13            1960 Rome    34      21      16     71\n",
       "12       1956 Melbourne    32      25      17     74\n",
       "11        1952 Helsinki    40      19      17     76\n",
       "10          1948 London    38      27      19     84\n",
       "14           1964 Tokyo    36      26      28     90\n",
       "22          2000 Sydney    37      24      32     93\n",
       "16          1972 Munich    33      31      30     94\n",
       "19           1988 Seoul    36      31      27     94\n",
       "17        1976 Montreal    34      35      25     94\n",
       "5          1920 Antwerp    41      27      27     95\n",
       "6            1924 Paris    45      27      27     99\n",
       "21         1996 Atlanta    44      32      25    101\n",
       "23          2004 Athens    36      39      26    101\n",
       "8      1932 Los Angeles    41      32      30    103\n",
       "25          2012 London    46      28      30    104\n",
       "15     1968 Mexico City    45      28      34    107\n",
       "20       1992 Barcelona    37      34      37    108\n",
       "24         2008 Beijing    36      39      37    112\n",
       "26  2016 Rio de Janeiro    46      37      38    121\n",
       "18     1984 Los Angeles    83      61      30    174\n",
       "2        1904 St. Louis    78      82      79    239"
      ]
     },
     "execution_count": 24,
     "metadata": {},
     "output_type": "execute_result"
    }
   ],
   "source": [
    "### Put your code here ###\n",
    "data = data.sort_values(by = \"Total\", ascending = True)\n",
    "data"
   ]
  },
  {
   "cell_type": "markdown",
   "metadata": {},
   "source": [
    "**Question 2.3 (1 point):** Draw the histogram of total medals using a method from *pandas*."
   ]
  },
  {
   "cell_type": "code",
   "execution_count": 25,
   "metadata": {},
   "outputs": [
    {
     "data": {
      "text/plain": [
       "<matplotlib.axes._subplots.AxesSubplot at 0x11c4353c8>"
      ]
     },
     "execution_count": 25,
     "metadata": {},
     "output_type": "execute_result"
    },
    {
     "data": {
      "image/png": "[encoded data removed]",
      "text/plain": [
       "<Figure size 432x288 with 1 Axes>"
      ]
     },
     "metadata": {
      "needs_background": "light"
     },
     "output_type": "display_data"
    }
   ],
   "source": [
    "### Put your code here ###\n",
    "data.plot.hist()"
   ]
  },
  {
   "cell_type": "markdown",
   "metadata": {},
   "source": [
    "**Question 2.4 (1 point):** The column \"Gold\" in the data frame shows the number of gold medals in each game. Re-sort the data frame so that the \"Gold\" column is *descending*. In the case of equal gold medals, the number of silver medals should be *descending*. In the case of equal gold and silver medals, the number of bronze medals should be *descending*."
   ]
  },
  {
   "cell_type": "code",
   "execution_count": 35,
   "metadata": {},
   "outputs": [
    {
     "data": {
      "text/html": [
       "<div>\n",
       "<style scoped>\n",
       "    .dataframe tbody tr th:only-of-type {\n",
       "        vertical-align: middle;\n",
       "    }\n",
       "\n",
       "    .dataframe tbody tr th {\n",
       "        vertical-align: top;\n",
       "    }\n",
       "\n",
       "    .dataframe thead th {\n",
       "        text-align: right;\n",
       "    }\n",
       "</style>\n",
       "<table border=\"1\" class=\"dataframe\">\n",
       "  <thead>\n",
       "    <tr style=\"text-align: right;\">\n",
       "      <th></th>\n",
       "      <th>Games</th>\n",
       "      <th>Gold</th>\n",
       "      <th>Silver</th>\n",
       "      <th>Bronze</th>\n",
       "      <th>Total</th>\n",
       "    </tr>\n",
       "  </thead>\n",
       "  <tbody>\n",
       "    <tr>\n",
       "      <th>18</th>\n",
       "      <td>1984 Los Angeles</td>\n",
       "      <td>83</td>\n",
       "      <td>61</td>\n",
       "      <td>30</td>\n",
       "      <td>174</td>\n",
       "    </tr>\n",
       "    <tr>\n",
       "      <th>2</th>\n",
       "      <td>1904 St. Louis</td>\n",
       "      <td>78</td>\n",
       "      <td>82</td>\n",
       "      <td>79</td>\n",
       "      <td>239</td>\n",
       "    </tr>\n",
       "    <tr>\n",
       "      <th>26</th>\n",
       "      <td>2016 Rio de Janeiro</td>\n",
       "      <td>46</td>\n",
       "      <td>37</td>\n",
       "      <td>38</td>\n",
       "      <td>121</td>\n",
       "    </tr>\n",
       "    <tr>\n",
       "      <th>25</th>\n",
       "      <td>2012 London</td>\n",
       "      <td>46</td>\n",
       "      <td>28</td>\n",
       "      <td>30</td>\n",
       "      <td>104</td>\n",
       "    </tr>\n",
       "    <tr>\n",
       "      <th>15</th>\n",
       "      <td>1968 Mexico City</td>\n",
       "      <td>45</td>\n",
       "      <td>28</td>\n",
       "      <td>34</td>\n",
       "      <td>107</td>\n",
       "    </tr>\n",
       "    <tr>\n",
       "      <th>6</th>\n",
       "      <td>1924 Paris</td>\n",
       "      <td>45</td>\n",
       "      <td>27</td>\n",
       "      <td>27</td>\n",
       "      <td>99</td>\n",
       "    </tr>\n",
       "    <tr>\n",
       "      <th>21</th>\n",
       "      <td>1996 Atlanta</td>\n",
       "      <td>44</td>\n",
       "      <td>32</td>\n",
       "      <td>25</td>\n",
       "      <td>101</td>\n",
       "    </tr>\n",
       "    <tr>\n",
       "      <th>8</th>\n",
       "      <td>1932 Los Angeles</td>\n",
       "      <td>41</td>\n",
       "      <td>32</td>\n",
       "      <td>30</td>\n",
       "      <td>103</td>\n",
       "    </tr>\n",
       "    <tr>\n",
       "      <th>5</th>\n",
       "      <td>1920 Antwerp</td>\n",
       "      <td>41</td>\n",
       "      <td>27</td>\n",
       "      <td>27</td>\n",
       "      <td>95</td>\n",
       "    </tr>\n",
       "    <tr>\n",
       "      <th>11</th>\n",
       "      <td>1952 Helsinki</td>\n",
       "      <td>40</td>\n",
       "      <td>19</td>\n",
       "      <td>17</td>\n",
       "      <td>76</td>\n",
       "    </tr>\n",
       "    <tr>\n",
       "      <th>10</th>\n",
       "      <td>1948 London</td>\n",
       "      <td>38</td>\n",
       "      <td>27</td>\n",
       "      <td>19</td>\n",
       "      <td>84</td>\n",
       "    </tr>\n",
       "    <tr>\n",
       "      <th>20</th>\n",
       "      <td>1992 Barcelona</td>\n",
       "      <td>37</td>\n",
       "      <td>34</td>\n",
       "      <td>37</td>\n",
       "      <td>108</td>\n",
       "    </tr>\n",
       "    <tr>\n",
       "      <th>22</th>\n",
       "      <td>2000 Sydney</td>\n",
       "      <td>37</td>\n",
       "      <td>24</td>\n",
       "      <td>32</td>\n",
       "      <td>93</td>\n",
       "    </tr>\n",
       "    <tr>\n",
       "      <th>24</th>\n",
       "      <td>2008 Beijing</td>\n",
       "      <td>36</td>\n",
       "      <td>39</td>\n",
       "      <td>37</td>\n",
       "      <td>112</td>\n",
       "    </tr>\n",
       "    <tr>\n",
       "      <th>23</th>\n",
       "      <td>2004 Athens</td>\n",
       "      <td>36</td>\n",
       "      <td>39</td>\n",
       "      <td>26</td>\n",
       "      <td>101</td>\n",
       "    </tr>\n",
       "    <tr>\n",
       "      <th>19</th>\n",
       "      <td>1988 Seoul</td>\n",
       "      <td>36</td>\n",
       "      <td>31</td>\n",
       "      <td>27</td>\n",
       "      <td>94</td>\n",
       "    </tr>\n",
       "    <tr>\n",
       "      <th>14</th>\n",
       "      <td>1964 Tokyo</td>\n",
       "      <td>36</td>\n",
       "      <td>26</td>\n",
       "      <td>28</td>\n",
       "      <td>90</td>\n",
       "    </tr>\n",
       "    <tr>\n",
       "      <th>17</th>\n",
       "      <td>1976 Montreal</td>\n",
       "      <td>34</td>\n",
       "      <td>35</td>\n",
       "      <td>25</td>\n",
       "      <td>94</td>\n",
       "    </tr>\n",
       "    <tr>\n",
       "      <th>13</th>\n",
       "      <td>1960 Rome</td>\n",
       "      <td>34</td>\n",
       "      <td>21</td>\n",
       "      <td>16</td>\n",
       "      <td>71</td>\n",
       "    </tr>\n",
       "    <tr>\n",
       "      <th>16</th>\n",
       "      <td>1972 Munich</td>\n",
       "      <td>33</td>\n",
       "      <td>31</td>\n",
       "      <td>30</td>\n",
       "      <td>94</td>\n",
       "    </tr>\n",
       "    <tr>\n",
       "      <th>12</th>\n",
       "      <td>1956 Melbourne</td>\n",
       "      <td>32</td>\n",
       "      <td>25</td>\n",
       "      <td>17</td>\n",
       "      <td>74</td>\n",
       "    </tr>\n",
       "    <tr>\n",
       "      <th>4</th>\n",
       "      <td>1912 Stockholm</td>\n",
       "      <td>25</td>\n",
       "      <td>19</td>\n",
       "      <td>19</td>\n",
       "      <td>63</td>\n",
       "    </tr>\n",
       "    <tr>\n",
       "      <th>9</th>\n",
       "      <td>1936 Berlin</td>\n",
       "      <td>24</td>\n",
       "      <td>20</td>\n",
       "      <td>12</td>\n",
       "      <td>56</td>\n",
       "    </tr>\n",
       "    <tr>\n",
       "      <th>3</th>\n",
       "      <td>1908 London</td>\n",
       "      <td>23</td>\n",
       "      <td>12</td>\n",
       "      <td>12</td>\n",
       "      <td>47</td>\n",
       "    </tr>\n",
       "    <tr>\n",
       "      <th>7</th>\n",
       "      <td>1928 Amsterdam</td>\n",
       "      <td>22</td>\n",
       "      <td>18</td>\n",
       "      <td>16</td>\n",
       "      <td>56</td>\n",
       "    </tr>\n",
       "    <tr>\n",
       "      <th>1</th>\n",
       "      <td>1900 Paris</td>\n",
       "      <td>19</td>\n",
       "      <td>14</td>\n",
       "      <td>14</td>\n",
       "      <td>47</td>\n",
       "    </tr>\n",
       "    <tr>\n",
       "      <th>0</th>\n",
       "      <td>1896 Athens</td>\n",
       "      <td>11</td>\n",
       "      <td>7</td>\n",
       "      <td>2</td>\n",
       "      <td>20</td>\n",
       "    </tr>\n",
       "  </tbody>\n",
       "</table>\n",
       "</div>"
      ],
      "text/plain": [
       "                  Games  Gold  Silver  Bronze  Total\n",
       "18     1984 Los Angeles    83      61      30    174\n",
       "2        1904 St. Louis    78      82      79    239\n",
       "26  2016 Rio de Janeiro    46      37      38    121\n",
       "25          2012 London    46      28      30    104\n",
       "15     1968 Mexico City    45      28      34    107\n",
       "6            1924 Paris    45      27      27     99\n",
       "21         1996 Atlanta    44      32      25    101\n",
       "8      1932 Los Angeles    41      32      30    103\n",
       "5          1920 Antwerp    41      27      27     95\n",
       "11        1952 Helsinki    40      19      17     76\n",
       "10          1948 London    38      27      19     84\n",
       "20       1992 Barcelona    37      34      37    108\n",
       "22          2000 Sydney    37      24      32     93\n",
       "24         2008 Beijing    36      39      37    112\n",
       "23          2004 Athens    36      39      26    101\n",
       "19           1988 Seoul    36      31      27     94\n",
       "14           1964 Tokyo    36      26      28     90\n",
       "17        1976 Montreal    34      35      25     94\n",
       "13            1960 Rome    34      21      16     71\n",
       "16          1972 Munich    33      31      30     94\n",
       "12       1956 Melbourne    32      25      17     74\n",
       "4        1912 Stockholm    25      19      19     63\n",
       "9           1936 Berlin    24      20      12     56\n",
       "3           1908 London    23      12      12     47\n",
       "7        1928 Amsterdam    22      18      16     56\n",
       "1            1900 Paris    19      14      14     47\n",
       "0           1896 Athens    11       7       2     20"
      ]
     },
     "execution_count": 35,
     "metadata": {},
     "output_type": "execute_result"
    }
   ],
   "source": [
    "### Put your code here ###\n",
    "data = data.sort_values(by = [\"Gold\",\"Silver\",\"Bronze\"], ascending = False)\n",
    "data"
   ]
  },
  {
   "cell_type": "markdown",
   "metadata": {},
   "source": [
    "**Question 2.5 (1 point)** Draw the histogram of gold medals using a method from *matplotlib.pyplot*."
   ]
  },
  {
   "cell_type": "code",
   "execution_count": 42,
   "metadata": {},
   "outputs": [
    {
     "data": {
      "text/plain": [
       "(array([ 1.,  5.,  1., 10.,  8.,  0.,  0.,  0.,  0.,  2.]),\n",
       " array([11. , 18.2, 25.4, 32.6, 39.8, 47. , 54.2, 61.4, 68.6, 75.8, 83. ]),\n",
       " <a list of 10 Patch objects>)"
      ]
     },
     "execution_count": 42,
     "metadata": {},
     "output_type": "execute_result"
    },
    {
     "data": {
      "image/png": "[encoded data removed]",
      "text/plain": [
       "<Figure size 432x288 with 1 Axes>"
      ]
     },
     "metadata": {
      "needs_background": "light"
     },
     "output_type": "display_data"
    }
   ],
   "source": [
    "### Put your code here ###\n",
    "import matplotlib.pyplot as plt\n",
    "plt.hist(data[\"Gold\"])\n",
    "plt.title(\"Gold Medals\")\n",
    "plt.xlabel(\"\")"
   ]
  },
  {
   "cell_type": "markdown",
   "metadata": {},
   "source": [
    "<img src=\"https://3.bp.blogspot.com/-i-4_PJncM9Y/UPKZWigjWtI/AAAAAAAAAGw/RcMBVqvETeE/s1600/yellow_star-1331px.png\" align=\"left\" width=35px> **Time to push your changes to your github repository and then carry on**"
   ]
  },
  {
   "cell_type": "markdown",
   "metadata": {},
   "source": [
    "## Part 3: Logistic Regression(9 points)\n",
    "\n",
    "Logistic regression is a statistical method for predicting binary classes. In logistic regression, the dependent variable $y$ is a binary variable that contains data coded as 1 (yes, success, etc.) or 0 (no, failure, etc.). In other words, the logistic regression model predicts the probability of $y$ being true as a function of the variable $x$. We will apply logistic regression to the data of gold medals.\n",
    "\n",
    "\n",
    "### Part 3.1: Data Processing and Model Training (5 points)\n",
    "\n",
    "As a logistic model outputs only binaries, we cannot apply it to predict the number of gold medals. Instead, we set a threshold, say 37, and predict if the number of gold medals is above or below 37. In this part, we will modify the data of gold medals into binaries, and then apply it to train a logistic model.   "
   ]
  },
  {
   "cell_type": "markdown",
   "metadata": {},
   "source": [
    "**Question 3.1 (2 points):** Construct a data frame named \"years\" consisting of the years of the games (that is, 1896, 1900, 1904, ...) in the above data frame. Construct another data frame named \"gold_binary\", which contains the value 1 for the years when the number of gold medals is greater than 37, and contains the value 0 for the years when the number of gold medals is less than or equal to 37.   "
   ]
  },
  {
   "cell_type": "code",
   "execution_count": null,
   "metadata": {},
   "outputs": [],
   "source": [
    "### put your code here ###\n"
   ]
  },
  {
   "cell_type": "markdown",
   "metadata": {},
   "source": [
    "**Question 3.2 (1 point):** Apply the \"train_test_split\" function in the *sklearn* package to split \"years\" and \"gold_binary\" into training and testing sets. Use 75% of the data as training set and the remaining 25% as the testing set. Here \"years\" serves as the variable $x$ and \"gold_binary\" as the dependent function $y$. Print your testing set."
   ]
  },
  {
   "cell_type": "code",
   "execution_count": null,
   "metadata": {},
   "outputs": [],
   "source": [
    "### Put your code here ###\n"
   ]
  },
  {
   "cell_type": "markdown",
   "metadata": {},
   "source": [
    "**Question 3.3 (2 points):** Find a suitable function in the *sklearn* package to train the logistic regression model on the training set. "
   ]
  },
  {
   "cell_type": "code",
   "execution_count": null,
   "metadata": {},
   "outputs": [],
   "source": [
    "### Put your code here ###\n"
   ]
  },
  {
   "cell_type": "markdown",
   "metadata": {},
   "source": [
    "### Part 3.2: Prediction and Evaluation (4 points)\n",
    "\n",
    "In this part, we apply the trained logistic model on the testing set and evaluate its performance.\n",
    "\n",
    "**Question 3.4 (1 point):** Make prediction with your logistic model on the training set. Print the result. "
   ]
  },
  {
   "cell_type": "code",
   "execution_count": null,
   "metadata": {},
   "outputs": [],
   "source": [
    "### Put your code here ###\n"
   ]
  },
  {
   "cell_type": "markdown",
   "metadata": {},
   "source": [
    "There are multiple metrics in the *sklearn* package to evaluate the model such as confusion matrix, accuracy, precision, and recall. You may learn what these metrics are by reading this page: https://towardsdatascience.com/accuracy-precision-recall-or-f1-331fb37c5cb9 .\n",
    "\n",
    "**Question 3.5 (2 points):** Compute the confusion matrix of the logistic model on the testing set and visualize it using the heat map in the package *seaborn*."
   ]
  },
  {
   "cell_type": "code",
   "execution_count": null,
   "metadata": {},
   "outputs": [],
   "source": [
    "### Put your code here ###\n"
   ]
  },
  {
   "cell_type": "markdown",
   "metadata": {},
   "source": [
    "**Question 3.6 (1 point):** Compute the scores of accuracy, precision, and recall of the logistic model on the testing set."
   ]
  },
  {
   "cell_type": "code",
   "execution_count": null,
   "metadata": {},
   "outputs": [],
   "source": [
    "### Put your code here ###\n"
   ]
  },
  {
   "cell_type": "markdown",
   "metadata": {},
   "source": [
    "<img src=\"https://3.bp.blogspot.com/-i-4_PJncM9Y/UPKZWigjWtI/AAAAAAAAAGw/RcMBVqvETeE/s1600/yellow_star-1331px.png\" align=\"left\" width=35px> **Time to push your changes to your github repository and then carry on**"
   ]
  },
  {
   "cell_type": "markdown",
   "metadata": {},
   "source": [
    "## Part 4: Writing a simple Python class (8  points)\n"
   ]
  },
  {
   "cell_type": "markdown",
   "metadata": {},
   "source": [
    "In this part, we will simulate an Olympic Games medal table using a python class.\n",
    "\n",
    "\n",
    "**Question 4.1 (3 points):** Write a class named \"Country\". \n",
    "\n",
    "(1) The class should have 4 attributes: \"name\" (type: string), \"gold\" (type: integer), \"silver\" (type: integer), and \"bronze\" (type: integer). The latter 3 attributes should be a randomly generated integer between 0 and 9 (including 0 and 9). \n",
    "\n",
    "(2) The class should have a method called \"get_info\" which prints to the screen the name of the country and the number of gold, silver and bronze medals."
   ]
  },
  {
   "cell_type": "code",
   "execution_count": null,
   "metadata": {},
   "outputs": [],
   "source": [
    "### Put your code here ###\n"
   ]
  },
  {
   "cell_type": "markdown",
   "metadata": {},
   "source": [
    "**Question 4.2 (5 points):** Write a for-loop to create 20 instances of the class \"Country\". Set their \"name\" attributes as \"Country0, Country1, ..., Country19\", respective. Make a medal table of the countries according to the following rules:\n",
    "\n",
    "(1) A country with more gold medals comes first in the table.\n",
    "\n",
    "(2) If two countries have equally many gold medals, the one with more silver medals comes first.\n",
    "\n",
    "(3) If two countries have equally many gold and silver medals, the one with more bronze medals comes first.\n",
    "\n",
    "(4) If two countries have equally many gold, silver and bronze medals, the one whose name has smaller index comes first.\n",
    "\n",
    "Use the \"get_info\" method in the \"Country\" class to print your table to the screen. You should end up with something like this:\n",
    "![text](MedalTable.png)"
   ]
  },
  {
   "cell_type": "code",
   "execution_count": null,
   "metadata": {},
   "outputs": [],
   "source": [
    "### Put your code here ###\n"
   ]
  },
  {
   "cell_type": "markdown",
   "metadata": {},
   "source": [
    "### Assignment wrap-up\n",
    "\n",
    "Please fill out the form that appears when you run the code below.  **You must completely fill this out in order to receive credit for the assignment!**"
   ]
  },
  {
   "cell_type": "code",
   "execution_count": 2,
   "metadata": {},
   "outputs": [
    {
     "data": {
      "text/html": [
       "\n",
       "<iframe \n",
       "\tsrc=\"https://docs.google.com/forms/d/e/1FAIpQLSdHaDGJfKmMPGm6mq610kTxMvSlzcJTmzBffhHxrwGqpYVy-A/viewform?usp=sf_link\" \n",
       "\twidth=\"800px\" \n",
       "\theight=\"600px\" \n",
       "\tframeborder=\"0\" \n",
       "\tmarginheight=\"0\" \n",
       "\tmarginwidth=\"0\">\n",
       "\tLoading...\n",
       "</iframe>\n"
      ],
      "text/plain": [
       "<IPython.core.display.HTML object>"
      ]
     },
     "execution_count": 2,
     "metadata": {},
     "output_type": "execute_result"
    }
   ],
   "source": [
    "from IPython.display import HTML\n",
    "HTML(\n",
    "\"\"\"\n",
    "<iframe \n",
    "\tsrc=\"https://docs.google.com/forms/d/e/1FAIpQLSdHaDGJfKmMPGm6mq610kTxMvSlzcJTmzBffhHxrwGqpYVy-A/viewform?usp=sf_link\" \n",
    "\twidth=\"800px\" \n",
    "\theight=\"600px\" \n",
    "\tframeborder=\"0\" \n",
    "\tmarginheight=\"0\" \n",
    "\tmarginwidth=\"0\">\n",
    "\tLoading...\n",
    "</iframe>\n",
    "\"\"\"\n",
    ")"
   ]
  },
  {
   "cell_type": "markdown",
   "metadata": {},
   "source": [
    "## You're Finished!\n",
    "\n",
    "<img src=\"https://3.bp.blogspot.com/-i-4_PJncM9Y/UPKZWigjWtI/AAAAAAAAAGw/RcMBVqvETeE/s1600/yellow_star-1331px.png\" align=\"left\" width=35px> Time to push your changes to your github repository when you finish\n",
    "\n",
    "\n",
    "<img src=\"https://3.bp.blogspot.com/-i-4_PJncM9Y/UPKZWigjWtI/AAAAAAAAAGw/RcMBVqvETeE/s1600/yellow_star-1331px.png\" align=\"left\" width=35px> Make sure you also turn in your completed notebook to the D2L assignment labeled `Homework 04`. We will be checking github but grading the notebooks submitted to D2L.\n",
    "\n"
   ]
  }
 ],
 "metadata": {
  "kernelspec": {
   "display_name": "Python 3",
   "language": "python",
   "name": "python3"
  },
  "language_info": {
   "codemirror_mode": {
    "name": "ipython",
    "version": 3
   },
   "file_extension": ".py",
   "mimetype": "text/x-python",
   "name": "python",
   "nbconvert_exporter": "python",
   "pygments_lexer": "ipython3",
   "version": "3.7.3"
  }
 },
 "nbformat": 4,
 "nbformat_minor": 4
}
